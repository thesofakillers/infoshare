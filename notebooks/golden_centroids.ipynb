{
 "cells": [
  {
   "cell_type": "code",
   "execution_count": 1,
   "id": "9f38e1d4-c32e-4c8a-8a92-8d4aa899c5db",
   "metadata": {
    "tags": []
   },
   "outputs": [],
   "source": [
    "import torch"
   ]
  },
  {
   "cell_type": "code",
   "execution_count": null,
   "id": "be4010d4-d44c-4c5c-b8b2-5a832da0939e",
   "metadata": {},
   "outputs": [],
   "source": [
    "# collect these tensors and fill in the path to them accordingly.\n",
    "GOLD_CENTROIDS_PATH = \"\"\n",
    "PREDICTED_CENTROIDS_PATH = \"\""
   ]
  },
  {
   "cell_type": "code",
   "execution_count": 2,
   "id": "cad91501-1789-41f7-aa37-c2cd48c75b4e",
   "metadata": {
    "tags": []
   },
   "outputs": [],
   "source": [
    "golden_centroids = torch.load(GOLD_CENTROIDS_PATH)"
   ]
  },
  {
   "cell_type": "code",
   "execution_count": 3,
   "id": "c7d63f1d-e55d-487e-9cb2-bd862dc8db39",
   "metadata": {
    "tags": []
   },
   "outputs": [],
   "source": [
    "predicted_centroids = torch.load(PREDICTED_CENTROIDS_PATH)"
   ]
  },
  {
   "cell_type": "code",
   "execution_count": 6,
   "id": "3d44ce0e-d0b3-4f0e-bd87-327902bfaf51",
   "metadata": {
    "tags": []
   },
   "outputs": [],
   "source": [
    "cosine_sim = torch.nn.CosineSimilarity(dim=0)"
   ]
  },
  {
   "cell_type": "code",
   "execution_count": 7,
   "id": "6892a65b-73d6-45d9-9aaf-c64afa0c0abc",
   "metadata": {
    "tags": []
   },
   "outputs": [
    {
     "name": "stdout",
     "output_type": "stream",
     "text": [
      "0 tensor(1.0000)\n",
      "2 tensor(1.0000)\n",
      "6 tensor(1.0000)\n",
      "1 tensor(1.0000)\n",
      "17 tensor(1.0000)\n",
      "16 tensor(1.0000)\n",
      "8 tensor(1.0000)\n",
      "9 tensor(1.0000)\n",
      "3 tensor(1.0000)\n",
      "14 tensor(0.9999)\n",
      "5 tensor(0.9998)\n",
      "11 tensor(1.0000)\n",
      "7 tensor(1.0000)\n",
      "4 tensor(0.9951)\n",
      "10 tensor(0.9999)\n",
      "12 tensor(0.9737)\n",
      "15 tensor(0.9980)\n"
     ]
    }
   ],
   "source": [
    "for label in predicted_centroids.keys():\n",
    "    predicted_emb = predicted_centroids[label]\n",
    "    golden_emb = golden_centroids[label]\n",
    "    \n",
    "    similarity = cosine_sim(predicted_emb, golden_emb)\n",
    "    \n",
    "    print(label, similarity)\n",
    "    "
   ]
  }
 ],
 "metadata": {
  "kernelspec": {
   "display_name": "Python 3 (ipykernel)",
   "language": "python",
   "name": "python3"
  },
  "language_info": {
   "codemirror_mode": {
    "name": "ipython",
    "version": 3
   },
   "file_extension": ".py",
   "mimetype": "text/x-python",
   "name": "python",
   "nbconvert_exporter": "python",
   "pygments_lexer": "ipython3",
   "version": "3.8.16"
  }
 },
 "nbformat": 4,
 "nbformat_minor": 5
}
