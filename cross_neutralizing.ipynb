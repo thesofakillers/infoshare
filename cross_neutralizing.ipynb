{
 "cells": [
  {
   "cell_type": "code",
   "execution_count": null,
   "metadata": {
    "pycharm": {
     "name": "#%%\n"
    }
   },
   "outputs": [],
   "source": [
    "%load_ext autoreload\n",
    "%autoreload 2"
   ]
  },
  {
   "cell_type": "markdown",
   "metadata": {
    "pycharm": {
     "name": "#%% md\n"
    }
   },
   "source": [
    "## Cross Neutralizing"
   ]
  },
  {
   "cell_type": "code",
   "execution_count": null,
   "metadata": {
    "pycharm": {
     "name": "#%%\n"
    }
   },
   "outputs": [],
   "source": [
    "import re\n",
    "import utils"
   ]
  },
  {
   "cell_type": "code",
   "execution_count": null,
   "metadata": {
    "pycharm": {
     "name": "#%%\n"
    }
   },
   "outputs": [],
   "source": [
    "# NOTE: Change these accordingly\n",
    "TASKS = [\"DEP\", \"POS\"]\n",
    "TREE_BANKS = [\"en_gum\", \"it_vit\", \"el_gdt\"]\n",
    "MODELS = [\"xlm-roberta-base\", \"roberta-base\"]\n",
    "# Set the values to None if you want to keep all the tags\n",
    "KEEP_TAGS = {\n",
    "    \"POS\": None,\n",
    "    # \"POS\": [\"NOUN\", \"ADJ\", \"VERB\", \"PRON\", \"DET\", \"NUM\", \"ADV\", \"AUX\"],\n",
    "    \"DEP\": None,\n",
    "    # \"DEP\": [\"PUNCT\", \"NSUBJ\", \"OBJ\", \"OBL\", \"ADVCL\", \"CASE\", \"DET\", \"AMOD\"],\n",
    "}"
   ]
  },
  {
   "cell_type": "code",
   "execution_count": null,
   "metadata": {
    "pycharm": {
     "name": "#%%\n"
    }
   },
   "outputs": [],
   "source": [
    "import matplotlib.pyplot as plt\n",
    "import seaborn as sns\n",
    "import pandas as pd\n",
    "\n",
    "sns.set_style(\"white\")\n",
    "sns.set_context(\"paper\", font_scale=0.8)"
   ]
  },
  {
   "cell_type": "code",
   "execution_count": null,
   "metadata": {
    "pycharm": {
     "name": "#%%\n"
    }
   },
   "outputs": [],
   "source": [
    "TEXTWIDTH = 6.30045\n",
    "COLWIDTH = 3.03209"
   ]
  },
  {
   "cell_type": "code",
   "execution_count": null,
   "metadata": {
    "pycharm": {
     "name": "#%%\n"
    }
   },
   "outputs": [],
   "source": [
    "def plot_heatmap(\n",
    "    df,\n",
    "    save_name=None,\n",
    "    vmin=None,\n",
    "    vmax=None,\n",
    "    center=0.0,\n",
    "    cbar=True,\n",
    "    annot_kws={\"fontsize\": 7},\n",
    "):\n",
    "    bold = {\"weight\": \"bold\"}\n",
    "\n",
    "    plt.figure(figsize=(TEXTWIDTH, TEXTWIDTH), dpi=300)\n",
    "    cmap = sns.diverging_palette(20, 145, as_cmap=True)\n",
    "    ax = sns.heatmap(\n",
    "        df * 100,\n",
    "        annot=True,\n",
    "        fmt=\".0f\",\n",
    "        cmap=cmap,\n",
    "        cbar=cbar,\n",
    "        vmin=vmin,\n",
    "        vmax=vmax,\n",
    "        center=center,\n",
    "        square=True,\n",
    "        annot_kws=annot_kws,\n",
    "        # annot_kws={\"size\": 80 / np.sqrt(len(df))},\n",
    "    )\n",
    "    ax.set_xlabel(ax.get_xlabel(), fontdict=bold)\n",
    "    ax.set_ylabel(ax.get_ylabel(), fontdict=bold)\n",
    "\n",
    "    if save_name:\n",
    "        plt.savefig(save_name, bbox_inches=\"tight\")\n",
    "\n",
    "\n",
    "def plot_config(data, title, model):\n",
    "    df = pd.DataFrame(data)\n",
    "    df.sort_values(by=\"Probing Layer\", inplace=True)\n",
    "\n",
    "    n_modes = len(df[\"concat. mode\"].unique())\n",
    "    n_treebanks = len(df[\"treebank\"].unique())\n",
    "    if n_modes > 1:\n",
    "        hue = \"concat. mode\"\n",
    "    elif n_treebanks > 1:\n",
    "        hue = \"treebank\"\n",
    "    else:\n",
    "        hue = None\n",
    "\n",
    "    xticks = df[\"Probing Layer\"].unique()\n",
    "    drops = df[\"Accuracy Decrease (%)\"]\n",
    "    gap = (max(drops) - min(drops)) * 0.75\n",
    "    if hue:\n",
    "        gap *= 2\n",
    "\n",
    "    plt.figure(figsize=(TEXTWIDTH * 1.5, TEXTWIDTH), dpi=300)\n",
    "    ax = sns.lineplot(\n",
    "        data=df,\n",
    "        x=\"Probing Layer\",\n",
    "        y=\"Accuracy Decrease (%)\",\n",
    "        style=\"aggregation\",\n",
    "        hue=hue,\n",
    "        legend=\"auto\",\n",
    "        markers=True,\n",
    "        markersize=20,\n",
    "        dashes=False,\n",
    "        alpha=0.5,\n",
    "        linewidth=2,\n",
    "        markeredgecolor=\"black\",\n",
    "    )\n",
    "    plt.title(f\"{title}\", fontsize=24, weight=\"bold\")\n",
    "    ax.set_xlabel(ax.get_xlabel(), fontsize=22)\n",
    "    ax.set_ylabel(ax.get_ylabel(), fontsize=22)\n",
    "    plt.xticks(xticks, fontsize=18)\n",
    "    plt.yticks(fontsize=18)\n",
    "    plt.legend(fontsize=12)\n",
    "    # plt.grid()\n",
    "    plt.ylim(min(drops) - gap, 100)\n",
    "    plt.savefig(\n",
    "        f\"images/{model}_config_selection_{title}.pdf\", bbox_inches=\"tight\", transparent=True\n",
    "    )"
   ]
  },
  {
   "cell_type": "code",
   "execution_count": null,
   "metadata": {
    "pycharm": {
     "name": "#%%\n"
    }
   },
   "outputs": [],
   "source": [
    "EXPERIMENT_REGEX = r\"agg=(\\w+)_probe=(\\d+)(?:_concat-mode=(\\w+))?\"\n",
    "\n",
    "plot_configs = True\n",
    "plot_heatmaps = False\n",
    "\n",
    "for MODEL in MODELS:\n",
    "    for TASK in TASKS:\n",
    "        data = []\n",
    "        for TREE_BANK in TREE_BANKS:\n",
    "            if MODEL == \"roberta-base\" and TREE_BANK in {\"it_vit\", \"el_gdt\"}:\n",
    "                continue\n",
    "            print(TASK, MODEL, TREE_BANK)\n",
    "            experiments_df = utils.get_experiments_df(TASK, TREE_BANK, MODEL)\n",
    "            if plot_configs:\n",
    "                for experiment_name in experiments_df.index:\n",
    "                    avg = experiments_df.loc[experiment_name, \"avg\"]\n",
    "                    re_match = re.findall(EXPERIMENT_REGEX, experiment_name)\n",
    "                    if not re_match:\n",
    "                        print(f\"Weird experiment name, skipping: {experiment_name}\")\n",
    "                        continue\n",
    "                    match = re_match[0]\n",
    "                    if len(match) == 3:\n",
    "                        agg, probe, concat_mode = match\n",
    "                        data += [\n",
    "                            {\n",
    "                                \"legend\": experiment_name,\n",
    "                                \"aggregation\": agg,\n",
    "                                \"Probing Layer\": int(probe),\n",
    "                                \"concat. mode\": concat_mode,\n",
    "                                \"Accuracy Decrease (%)\": int(-avg * 100),\n",
    "                                \"treebank\": TREE_BANK,\n",
    "                            }\n",
    "                        ]\n",
    "                    else:\n",
    "                        agg, probe = match\n",
    "                        data += [\n",
    "                            {\n",
    "                                \"legend\": experiment_name,\n",
    "                                \"aggregation\": agg,\n",
    "                                \"Probe Layer\": int(probe),\n",
    "                                \"Accuracy Decrease (%)\": int(-avg * 100),\n",
    "                                \"treebank\": TREE_BANK,\n",
    "                            }\n",
    "                        ]\n",
    "            if plot_heatmaps:\n",
    "                plot_heatmap(\n",
    "                    experiments_df,\n",
    "                    save_name=f\"experiments/{TASK}_{MODEL}_{TREE_BANK}.eps\",\n",
    "                    cbar=False,\n",
    "                )\n",
    "                MODE = utils.select_best_mode(experiments_df)\n",
    "                eval_path = f\"lightning_logs/{MODEL}/{TREE_BANK}/{TASK}/{MODE}/evaluation\"\n",
    "                acc_drop = utils.get_acc_drop(eval_path, KEEP_TAGS[TASK])\n",
    "                plot_heatmap(\n",
    "                    acc_drop,\n",
    "                    save_name=f\"experiments/{TASK}_{MODEL}_{TREE_BANK}_acc_drop_{MODE}\"\n",
    "                    f\"{'_sampled' if KEEP_TAGS[TASK] is not None else ''}\"\n",
    "                    \".eps\",\n",
    "                    vmin=-100,\n",
    "                    vmax=100,\n",
    "                    cbar=False,\n",
    "                )\n",
    "        if plot_configs:\n",
    "            plot_config(data, TASK, MODEL)"
   ]
  }
 ],
 "metadata": {
  "kernelspec": {
   "display_name": "infoshare",
   "language": "python",
   "name": "infoshare"
  },
  "language_info": {
   "codemirror_mode": {
    "name": "ipython",
    "version": 3
   },
   "file_extension": ".py",
   "mimetype": "text/x-python",
   "name": "python",
   "nbconvert_exporter": "python",
   "pygments_lexer": "ipython3",
   "version": "3.8.13"
  }
 },
 "nbformat": 4,
 "nbformat_minor": 4
}
